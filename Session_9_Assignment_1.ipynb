{
 "cells": [
  {
   "cell_type": "markdown",
   "metadata": {},
   "source": [
    "# Task 1:"
   ]
  },
  {
   "cell_type": "markdown",
   "metadata": {},
   "source": [
    "1.You survey households in your area to find the average rent they are paying. Find the\n",
    "standard deviation from the following data:\n",
    "$1550, $1700, $900, $850, $1000, $950."
   ]
  },
  {
   "cell_type": "code",
   "execution_count": 6,
   "metadata": {},
   "outputs": [
    {
     "name": "stdout",
     "output_type": "stream",
     "text": [
      "Standard Deviation of Rent is 367.9900360969936 \n"
     ]
    }
   ],
   "source": [
    "import statistics as stat\n",
    "rent=[1550,1700,900,850,1000,950]\n",
    "\n",
    "print(\"Standard Deviation of Rent is % s \" \n",
    "                % (stat.stdev(rent))) "
   ]
  },
  {
   "cell_type": "markdown",
   "metadata": {},
   "source": [
    "2.Find the variance for the following set of data representing trees in California (heights in\n",
    "feet):\n",
    "3, 21, 98, 203, 17, 9"
   ]
  },
  {
   "cell_type": "code",
   "execution_count": 8,
   "metadata": {},
   "outputs": [
    {
     "name": "stdout",
     "output_type": "stream",
     "text": [
      "Variance of Height is 6402.566666666667 \n"
     ]
    }
   ],
   "source": [
    "height=[3,21,98,203,7,9]\n",
    "print(\"Variance of Height is % s \" \n",
    "                % (stat.variance(height)))"
   ]
  },
  {
   "cell_type": "markdown",
   "metadata": {},
   "source": [
    "3.In a class on 100 students, 80 students passed in all subjects, 10 failed in one subject, 7 failed\n",
    "in two subjects and 3 failed in three subjects. Find the probability distribution of the variable for\n",
    "number of subjects a student from the given class has failed in."
   ]
  },
  {
   "cell_type": "markdown",
   "metadata": {},
   "source": [
    "Answer:\n",
    "\n",
    "The probability of failing in 0 subjects, P(X=0) = 0.8\n",
    "\n",
    "The probability of failing in 1 subjects, P(X=1) = 0.1\n",
    "\n",
    "The probability of failing in 2 subjects, P(X=2) = 0.07\n",
    "\n",
    "The probability of failing in 3 subjects, P(X=3) = 0.03\n",
    "\n"
   ]
  },
  {
   "cell_type": "markdown",
   "metadata": {},
   "source": [
    "# Task 2:"
   ]
  },
  {
   "cell_type": "markdown",
   "metadata": {},
   "source": [
    "1.A test is conducted which is consisting of 20 MCQs (multiple choices questions) with every\n",
    "MCQ having its four options out of which only one is correct. Determine the probability that a\n",
    "person undertaking that test has answered exactly 5 questions wrong."
   ]
  },
  {
   "cell_type": "code",
   "execution_count": 8,
   "metadata": {},
   "outputs": [
    {
     "name": "stdout",
     "output_type": "stream",
     "text": [
      "The probability that a person undertaking that test has answered exactly 5 questions wrong is: 0.00000343\n"
     ]
    }
   ],
   "source": [
    "import math\n",
    "\n",
    "x=5\n",
    "n=20\n",
    "p=(3/4)\n",
    "\n",
    "# P(x) = n! / x!(n-x)! * (p**x) * (1-p)**(n-x)\n",
    "prob = (math.factorial(n)/(math.factorial(x)*math.factorial(n-x)))*(p**x)*((1-p)**(n-x))\n",
    "print('The probability that a person undertaking that test has answered exactly 5 questions wrong is: %.8f' % (prob))"
   ]
  },
  {
   "cell_type": "markdown",
   "metadata": {},
   "source": [
    "2.A die marked A to E is rolled 50 times. Find the probability of getting a “D” exactly 5 times."
   ]
  },
  {
   "cell_type": "code",
   "execution_count": 14,
   "metadata": {},
   "outputs": [
    {
     "name": "stdout",
     "output_type": "stream",
     "text": [
      "The Probability of Getting “D” Exactly 5 Times is: 0.02953120\n"
     ]
    }
   ],
   "source": [
    "from scipy.stats import binom\n",
    "\n",
    "n=50\n",
    "x=5\n",
    "p=1/5\n",
    "#prob = (math.factorial(n)/(math.factorial(x)*math.factorial(n-x)))*(p**x)*((1-p)**(n-x))\n",
    "prob=binom.pmf(x,n,p)\n",
    "print('The Probability of Getting “D” Exactly 5 Times is: %.8f' % (prob))\n"
   ]
  },
  {
   "cell_type": "markdown",
   "metadata": {},
   "source": [
    "3.Two balls are drawn at random in succession without replacement from an urn containing 4\n",
    "red balls and 6 black balls. Find the probabilities of all the possible outcomes.\n"
   ]
  },
  {
   "cell_type": "code",
   "execution_count": 23,
   "metadata": {},
   "outputs": [
    {
     "name": "stdout",
     "output_type": "stream",
     "text": [
      "The Probability of getting Both Red Balls is:0.13333333\n",
      "The Probability of getting Both Black Balls is:0.33333333\n",
      "The Probability of getting a Black Ball and a Red Ball is:0.26666667\n",
      "The Probability of getting a Red Ball and a Black Ball is:0.26666667\n",
      "The Sum of Probability is :1.00000000\n"
     ]
    }
   ],
   "source": [
    "REDBALLS=4\n",
    "BLACKBALLS=6\n",
    "TOTALBALLS=REDBALLS+BLACKBALLS\n",
    "\n",
    "RR=(REDBALLS/TOTALBALLS)*((REDBALLS-1)/(TOTALBALLS-1))\n",
    "print('The Probability of getting Both Red Balls is:%.8f'% RR )\n",
    "\n",
    "\n",
    "BB= (BLACKBALLS/TOTALBALLS)*((BLACKBALLS-1)/(TOTALBALLS-1))\n",
    "print('The Probability of getting Both Black Balls is:%.8f'% BB )\n",
    "\n",
    "\n",
    "BR= (BLACKBALLS/TOTALBALLS)*((REDBALLS)/(TOTALBALLS-1))\n",
    "print('The Probability of getting a Black Ball and a Red Ball is:%.8f'% BR )\n",
    "\n",
    "RB= (REDBALLS/TOTALBALLS)*((BLACKBALLS)/(TOTALBALLS-1))\n",
    "print('The Probability of getting a Red Ball and a Black Ball is:%.8f'% BR )\n",
    "\n",
    "print('The Sum of Probability is :%.8f'% (RR+BB+BR+RB))\n",
    "\n",
    "\n"
   ]
  }
 ],
 "metadata": {
  "kernelspec": {
   "display_name": "Python 3",
   "language": "python",
   "name": "python3"
  },
  "language_info": {
   "codemirror_mode": {
    "name": "ipython",
    "version": 3
   },
   "file_extension": ".py",
   "mimetype": "text/x-python",
   "name": "python",
   "nbconvert_exporter": "python",
   "pygments_lexer": "ipython3",
   "version": "3.7.0"
  }
 },
 "nbformat": 4,
 "nbformat_minor": 2
}
